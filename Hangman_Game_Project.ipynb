{
 "cells": [
  {
   "cell_type": "code",
   "execution_count": null,
   "id": "753ee542",
   "metadata": {},
   "outputs": [],
   "source": [
    "# importing library\n",
    "import random\n",
    "# creating database for the game\n",
    "alphabets = ['a', 'b', 'c', 'd', 'e', 'f', 'g', 'h', 'i', 'j', 'k', 'l', 'm',\n",
    "             'n', 'o', 'p', 'q', 'r', 's', 't', 'u', 'v', 'w', 'x', 'y', 'z']\n",
    "words = ['apple', 'banana', 'orange', 'grape', 'kiwi', 'pineapple', 'watermelon', 'peach', 'strawberry', 'blueberry']\n",
    "# welcome\n",
    "print(\"Welcome To be Hanged- Hangman \\nLet's start the Game\")\n",
    "# selected a word randomly\n",
    "game_word=random.choice(words)\n",
    "display = []\n",
    "# inserting dashes according to the word\n",
    "for letters in game_word:\n",
    "    display.append('_')\n",
    "\n",
    "# print statements for game\n",
    "print(f'Complete this word \\nHint it\\'s a Fruit  - {game_word[2:5]}')\n",
    "print(f'Fill in all the blanks {display} \\nLetter in the word are {len(display)}')\n",
    "\n",
    "# Main Code \n",
    "# Defining the chances \n",
    "chances = len(game_word)+1\n",
    "guessed_letter_library = []\n",
    "# Main loop\n",
    "while chances>0:\n",
    "    # If dashes end game end's \n",
    "    if '_' not in display:\n",
    "        print('Game over Thanks for playing')\n",
    "        break\n",
    "    print(f'')\n",
    "    # Asking user to enter a letter and converting it in lowercase to make it error free\n",
    "    guessed_letter = input(f\"Chances left: {chances}\\n \\nGuess a letter to Complete the word \").lower()\n",
    "    # if guessed letter is not alphabet then restart the code, making it error free\n",
    "    if guessed_letter not in alphabets or len(guessed_letter)!=1:\n",
    "        print('please write a single letter')\n",
    "    else: \n",
    "        # Declaring found match variable as false\n",
    "        found_match = False\n",
    "        guessed_letter_library.append(guessed_letter)\n",
    "        print(f'you already guesssed these letters {guessed_letter_library}')\n",
    "        # Finding position wise the guessed letter \n",
    "        for position in range(len(game_word)):\n",
    "            # Equalising the letter to choosen word\n",
    "            if guessed_letter == game_word[position]:\n",
    "                # Replaceing the Dash in display with Guessed letter \n",
    "                display[position]=guessed_letter\n",
    "                found_match = True\n",
    "        # using found match variable to check letter is correct or not and creating a loop\n",
    "        if found_match == True:\n",
    "            print(display)\n",
    "        if not found_match:\n",
    "            print('error')\n",
    "\n",
    "        chances-=1\n",
    "    "
   ]
  },
  {
   "cell_type": "code",
   "execution_count": null,
   "id": "7f7db729",
   "metadata": {},
   "outputs": [],
   "source": []
  }
 ],
 "metadata": {
  "kernelspec": {
   "display_name": "Python 3 (ipykernel)",
   "language": "python",
   "name": "python3"
  },
  "language_info": {
   "codemirror_mode": {
    "name": "ipython",
    "version": 3
   },
   "file_extension": ".py",
   "mimetype": "text/x-python",
   "name": "python",
   "nbconvert_exporter": "python",
   "pygments_lexer": "ipython3",
   "version": "3.11.5"
  }
 },
 "nbformat": 4,
 "nbformat_minor": 5
}
